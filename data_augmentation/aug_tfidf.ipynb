{
 "cells": [
  {
   "cell_type": "code",
   "execution_count": null,
   "metadata": {},
   "outputs": [],
   "source": [
    "import re\n",
    "import sklearn\n",
    "import os\n",
    "\n",
    "import nlpaug.augmenter.word as naw\n",
    "import nlpaug.model.word_stats as nmw\n",
    "\n",
    "import sys\n",
    "result=[]"
   ]
  },
  {
   "cell_type": "code",
   "execution_count": null,
   "metadata": {},
   "outputs": [],
   "source": [
    "def read_file(file_dir):\n",
    "    result = []\n",
    "    with open(file_dir,'r') as f:\n",
    "\t    for line in f:\n",
    "\t\t    result.append(line.strip('\\n'))\n",
    "    return result\n",
    "\n",
    "def _tokenizer(text, token_pattern=r\"(?u)\\b\\w\\w+\\b\"):\n",
    "    token_pattern = re.compile(token_pattern)\n",
    "    return token_pattern.findall(text)"
   ]
  },
  {
   "cell_type": "code",
   "execution_count": null,
   "metadata": {},
   "outputs": [],
   "source": [
    "# Load sample data\n",
    "train_x = read_file(\"data/bora.train\")\n",
    "\n",
    "# Tokenize input\n",
    "train_x_tokens = [_tokenizer(x) for x in train_x]\n",
    "\n",
    "# Train TF-IDF model\n",
    "tfidf_model = nmw.TfIdf()\n",
    "tfidf_model.train(train_x_tokens)\n",
    "tfidf_model.save('.')\n",
    "\n",
    "# Load TF-IDF augmenter\n",
    "aug = naw.TfIdfAug(model_path='.', tokenizer=_tokenizer)\n",
    "\n",
    "texts = train_x\n",
    "count = 0\n",
    "\n",
    "with open('bora_tf_idf.txt', 'a') as f:\n",
    "    for text in texts:\n",
    "        print(count)\n",
    "        count += 1\n",
    "        augmented_text = aug.augment(text)\n",
    "        f.write(augmented_text+'\\n')"
   ]
  }
 ],
 "metadata": {
  "kernelspec": {
   "display_name": "Python 3",
   "language": "python",
   "name": "python3"
  },
  "language_info": {
   "codemirror_mode": {
    "name": "ipython",
    "version": 3
   },
   "file_extension": ".py",
   "mimetype": "text/x-python",
   "name": "python",
   "nbconvert_exporter": "python",
   "pygments_lexer": "ipython3",
   "version": "3.6.4"
  }
 },
 "nbformat": 4,
 "nbformat_minor": 2
}
